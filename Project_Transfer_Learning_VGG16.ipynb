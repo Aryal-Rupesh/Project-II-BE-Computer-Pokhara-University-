{
  "nbformat": 4,
  "nbformat_minor": 0,
  "metadata": {
    "colab": {
      "name": "ProjectTransferLearningVGG16.ipynb",
      "provenance": [],
      "collapsed_sections": []
    },
    "kernelspec": {
      "name": "python3",
      "display_name": "Python 3"
    },
    "language_info": {
      "name": "python"
    }
  },
  "cells": [
    {
      "cell_type": "markdown",
      "source": [
        " ***importing necessary libraries***"
      ],
      "metadata": {
        "id": "QZNyQp9rgFlS"
      }
    },
    {
      "cell_type": "code",
      "execution_count": null,
      "metadata": {
        "id": "53mVX1wpu5FR"
      },
      "outputs": [],
      "source": [
        "import cv2\n",
        "import numpy as np \n",
        "import matplotlib.pyplot as plt\n",
        "import tensorflow as tf\n",
        "from tensorflow.keras.preprocessing import image\n",
        "from tensorflow.keras.preprocessing.image import ImageDataGenerator"
      ]
    },
    {
      "cell_type": "code",
      "source": [
        "from keras.applications import vgg16"
      ],
      "metadata": {
        "id": "5eOXcBRCvD7w"
      },
      "execution_count": null,
      "outputs": []
    },
    {
      "cell_type": "markdown",
      "source": [
        "***excluding top layers of VGG16***"
      ],
      "metadata": {
        "id": "ZscX7iSWghg2"
      }
    },
    {
      "cell_type": "code",
      "source": [
        "vgg_model = vgg16.VGG16(\n",
        "    weights = \"imagenet\",\n",
        "    include_top = False,\n",
        "    input_shape = (224,224,3),\n",
        "    classes = 15 \n",
        ")"
      ],
      "metadata": {
        "id": "hGLrYah6vLQ7"
      },
      "execution_count": null,
      "outputs": []
    },
    {
      "cell_type": "code",
      "source": [
        "vgg_model.summary()"
      ],
      "metadata": {
        "colab": {
          "base_uri": "https://localhost:8080/"
        },
        "id": "PHzsr-K5vOV7",
        "outputId": "2c7ac6e8-49f8-42c5-e333-ba86cf8b2727"
      },
      "execution_count": null,
      "outputs": [
        {
          "output_type": "stream",
          "name": "stdout",
          "text": [
            "Model: \"vgg16\"\n",
            "_________________________________________________________________\n",
            " Layer (type)                Output Shape              Param #   \n",
            "=================================================================\n",
            " input_25 (InputLayer)       [(None, 224, 224, 3)]     0         \n",
            "                                                                 \n",
            " block1_conv1 (Conv2D)       (None, 224, 224, 64)      1792      \n",
            "                                                                 \n",
            " block1_conv2 (Conv2D)       (None, 224, 224, 64)      36928     \n",
            "                                                                 \n",
            " block1_pool (MaxPooling2D)  (None, 112, 112, 64)      0         \n",
            "                                                                 \n",
            " block2_conv1 (Conv2D)       (None, 112, 112, 128)     73856     \n",
            "                                                                 \n",
            " block2_conv2 (Conv2D)       (None, 112, 112, 128)     147584    \n",
            "                                                                 \n",
            " block2_pool (MaxPooling2D)  (None, 56, 56, 128)       0         \n",
            "                                                                 \n",
            " block3_conv1 (Conv2D)       (None, 56, 56, 256)       295168    \n",
            "                                                                 \n",
            " block3_conv2 (Conv2D)       (None, 56, 56, 256)       590080    \n",
            "                                                                 \n",
            " block3_conv3 (Conv2D)       (None, 56, 56, 256)       590080    \n",
            "                                                                 \n",
            " block3_pool (MaxPooling2D)  (None, 28, 28, 256)       0         \n",
            "                                                                 \n",
            " block4_conv1 (Conv2D)       (None, 28, 28, 512)       1180160   \n",
            "                                                                 \n",
            " block4_conv2 (Conv2D)       (None, 28, 28, 512)       2359808   \n",
            "                                                                 \n",
            " block4_conv3 (Conv2D)       (None, 28, 28, 512)       2359808   \n",
            "                                                                 \n",
            " block4_pool (MaxPooling2D)  (None, 14, 14, 512)       0         \n",
            "                                                                 \n",
            " block5_conv1 (Conv2D)       (None, 14, 14, 512)       2359808   \n",
            "                                                                 \n",
            " block5_conv2 (Conv2D)       (None, 14, 14, 512)       2359808   \n",
            "                                                                 \n",
            " block5_conv3 (Conv2D)       (None, 14, 14, 512)       2359808   \n",
            "                                                                 \n",
            " block5_pool (MaxPooling2D)  (None, 7, 7, 512)         0         \n",
            "                                                                 \n",
            "=================================================================\n",
            "Total params: 14,714,688\n",
            "Trainable params: 14,714,688\n",
            "Non-trainable params: 0\n",
            "_________________________________________________________________\n"
          ]
        }
      ]
    },
    {
      "cell_type": "markdown",
      "source": [
        "***freeze convolution layers of VGG16***"
      ],
      "metadata": {
        "id": "AvdttQ0WgwMv"
      }
    },
    {
      "cell_type": "code",
      "source": [
        "model = tf.keras.models.Sequential()\n",
        "\n",
        "for layer in vgg_model.layers:\n",
        "  layer.trainable = False\n",
        "  model.add(layer)"
      ],
      "metadata": {
        "id": "Y8UwLH8OvS1L"
      },
      "execution_count": null,
      "outputs": []
    },
    {
      "cell_type": "code",
      "source": [
        "model.summary()"
      ],
      "metadata": {
        "colab": {
          "base_uri": "https://localhost:8080/"
        },
        "id": "89HsuJwoveYv",
        "outputId": "1b3732ee-005c-48a0-fd2f-115cccb46c2d"
      },
      "execution_count": null,
      "outputs": [
        {
          "output_type": "stream",
          "name": "stdout",
          "text": [
            "Model: \"sequential_3\"\n",
            "_________________________________________________________________\n",
            " Layer (type)                Output Shape              Param #   \n",
            "=================================================================\n",
            " block1_conv1 (Conv2D)       (None, 224, 224, 64)      1792      \n",
            "                                                                 \n",
            " block1_conv2 (Conv2D)       (None, 224, 224, 64)      36928     \n",
            "                                                                 \n",
            " block1_pool (MaxPooling2D)  (None, 112, 112, 64)      0         \n",
            "                                                                 \n",
            " block2_conv1 (Conv2D)       (None, 112, 112, 128)     73856     \n",
            "                                                                 \n",
            " block2_conv2 (Conv2D)       (None, 112, 112, 128)     147584    \n",
            "                                                                 \n",
            " block2_pool (MaxPooling2D)  (None, 56, 56, 128)       0         \n",
            "                                                                 \n",
            " block3_conv1 (Conv2D)       (None, 56, 56, 256)       295168    \n",
            "                                                                 \n",
            " block3_conv2 (Conv2D)       (None, 56, 56, 256)       590080    \n",
            "                                                                 \n",
            " block3_conv3 (Conv2D)       (None, 56, 56, 256)       590080    \n",
            "                                                                 \n",
            " block3_pool (MaxPooling2D)  (None, 28, 28, 256)       0         \n",
            "                                                                 \n",
            " block4_conv1 (Conv2D)       (None, 28, 28, 512)       1180160   \n",
            "                                                                 \n",
            " block4_conv2 (Conv2D)       (None, 28, 28, 512)       2359808   \n",
            "                                                                 \n",
            " block4_conv3 (Conv2D)       (None, 28, 28, 512)       2359808   \n",
            "                                                                 \n",
            " block4_pool (MaxPooling2D)  (None, 14, 14, 512)       0         \n",
            "                                                                 \n",
            " block5_conv1 (Conv2D)       (None, 14, 14, 512)       2359808   \n",
            "                                                                 \n",
            " block5_conv2 (Conv2D)       (None, 14, 14, 512)       2359808   \n",
            "                                                                 \n",
            " block5_conv3 (Conv2D)       (None, 14, 14, 512)       2359808   \n",
            "                                                                 \n",
            " block5_pool (MaxPooling2D)  (None, 7, 7, 512)         0         \n",
            "                                                                 \n",
            "=================================================================\n",
            "Total params: 14,714,688\n",
            "Trainable params: 0\n",
            "Non-trainable params: 14,714,688\n",
            "_________________________________________________________________\n"
          ]
        }
      ]
    },
    {
      "cell_type": "markdown",
      "source": [
        "***adding custom top layers to VGG16***"
      ],
      "metadata": {
        "id": "fns9jq4gg6Af"
      }
    },
    {
      "cell_type": "code",
      "source": [
        "model.add(tf.keras.layers.Flatten())\n",
        "model.add(tf.keras.layers.Dense(512, activation=\"relu\"))\n",
        "model.add(tf.keras.layers.Dropout(0.5))\n",
        "model.add(tf.keras.layers.Dense(15, activation=\"softmax\"))"
      ],
      "metadata": {
        "id": "xbLqZjt1vgnr"
      },
      "execution_count": null,
      "outputs": []
    },
    {
      "cell_type": "code",
      "source": [
        "model.summary()"
      ],
      "metadata": {
        "colab": {
          "base_uri": "https://localhost:8080/"
        },
        "id": "a9jnDo-Fvrze",
        "outputId": "41396a7b-1474-404b-9fd5-316d2c053913"
      },
      "execution_count": null,
      "outputs": [
        {
          "output_type": "stream",
          "name": "stdout",
          "text": [
            "Model: \"sequential_2\"\n",
            "_________________________________________________________________\n",
            " Layer (type)                Output Shape              Param #   \n",
            "=================================================================\n",
            " block1_conv1 (Conv2D)       (None, 224, 224, 64)      1792      \n",
            "                                                                 \n",
            " block1_conv2 (Conv2D)       (None, 224, 224, 64)      36928     \n",
            "                                                                 \n",
            " block1_pool (MaxPooling2D)  (None, 112, 112, 64)      0         \n",
            "                                                                 \n",
            " block2_conv1 (Conv2D)       (None, 112, 112, 128)     73856     \n",
            "                                                                 \n",
            " block2_conv2 (Conv2D)       (None, 112, 112, 128)     147584    \n",
            "                                                                 \n",
            " block2_pool (MaxPooling2D)  (None, 56, 56, 128)       0         \n",
            "                                                                 \n",
            " block3_conv1 (Conv2D)       (None, 56, 56, 256)       295168    \n",
            "                                                                 \n",
            " block3_conv2 (Conv2D)       (None, 56, 56, 256)       590080    \n",
            "                                                                 \n",
            " block3_conv3 (Conv2D)       (None, 56, 56, 256)       590080    \n",
            "                                                                 \n",
            " block3_pool (MaxPooling2D)  (None, 28, 28, 256)       0         \n",
            "                                                                 \n",
            " block4_conv1 (Conv2D)       (None, 28, 28, 512)       1180160   \n",
            "                                                                 \n",
            " block4_conv2 (Conv2D)       (None, 28, 28, 512)       2359808   \n",
            "                                                                 \n",
            " block4_conv3 (Conv2D)       (None, 28, 28, 512)       2359808   \n",
            "                                                                 \n",
            " block4_pool (MaxPooling2D)  (None, 14, 14, 512)       0         \n",
            "                                                                 \n",
            " block5_conv1 (Conv2D)       (None, 14, 14, 512)       2359808   \n",
            "                                                                 \n",
            " block5_conv2 (Conv2D)       (None, 14, 14, 512)       2359808   \n",
            "                                                                 \n",
            " block5_conv3 (Conv2D)       (None, 14, 14, 512)       2359808   \n",
            "                                                                 \n",
            " block5_pool (MaxPooling2D)  (None, 7, 7, 512)         0         \n",
            "                                                                 \n",
            " flatten_2 (Flatten)         (None, 25088)             0         \n",
            "                                                                 \n",
            " dense_4 (Dense)             (None, 512)               12845568  \n",
            "                                                                 \n",
            " dropout_2 (Dropout)         (None, 512)               0         \n",
            "                                                                 \n",
            " dense_5 (Dense)             (None, 15)                7695      \n",
            "                                                                 \n",
            "=================================================================\n",
            "Total params: 27,567,951\n",
            "Trainable params: 12,853,263\n",
            "Non-trainable params: 14,714,688\n",
            "_________________________________________________________________\n"
          ]
        }
      ]
    },
    {
      "cell_type": "markdown",
      "source": [
        "***model compilation***"
      ],
      "metadata": {
        "id": "YpPn5CurhDZs"
      }
    },
    {
      "cell_type": "code",
      "source": [
        "model.compile(loss='categorical_crossentropy', optimizer=\"adam\", metrics=[\"accuracy\"])"
      ],
      "metadata": {
        "id": "sXacsLgsxJl7"
      },
      "execution_count": null,
      "outputs": []
    },
    {
      "cell_type": "markdown",
      "source": [
        "***importing training and validation dataset***"
      ],
      "metadata": {
        "id": "pmfF20T5hMZa"
      }
    },
    {
      "cell_type": "code",
      "source": [
        "train = ImageDataGenerator(rescale = 1/255)\n",
        "validation = ImageDataGenerator(rescale = 1/255)"
      ],
      "metadata": {
        "id": "-hReTJMZyAKE"
      },
      "execution_count": null,
      "outputs": []
    },
    {
      "cell_type": "code",
      "source": [
        "train_dataset = train.flow_from_directory(\"/content/drive/MyDrive/Project 6 Semester/Code/Cropped Dataset/Train\",\n",
        "                                          target_size=(224,224))\n",
        "validation_dataset = validation.flow_from_directory(\"/content/drive/MyDrive/Project 6 Semester/Code/Cropped Dataset/Validation\",\n",
        "                                          target_size=(224,224))"
      ],
      "metadata": {
        "colab": {
          "base_uri": "https://localhost:8080/"
        },
        "id": "JQwtpoZVyXSi",
        "outputId": "1c454d3e-1e96-438d-9a3c-88cb950027fe"
      },
      "execution_count": null,
      "outputs": [
        {
          "output_type": "stream",
          "name": "stdout",
          "text": [
            "Found 480 images belonging to 15 classes.\n",
            "Found 120 images belonging to 15 classes.\n"
          ]
        }
      ]
    },
    {
      "cell_type": "markdown",
      "source": [
        "***model fitting***"
      ],
      "metadata": {
        "id": "5IdbZ7vmhS76"
      }
    },
    {
      "cell_type": "code",
      "source": [
        "#model.fit(train_dataset, validation_data=validation_dataset, steps_per_epoch=10, epochs=15)"
      ],
      "metadata": {
        "colab": {
          "base_uri": "https://localhost:8080/"
        },
        "id": "GTWi4si2oFgb",
        "outputId": "3e7e4330-908b-4d30-d495-25ad582de0f5"
      },
      "execution_count": null,
      "outputs": [
        {
          "output_type": "stream",
          "name": "stdout",
          "text": [
            "Epoch 1/15\n",
            "10/10 [==============================] - 222s 23s/step - loss: 5.7315 - accuracy: 0.1656 - val_loss: 1.2756 - val_accuracy: 0.7083\n",
            "Epoch 2/15\n",
            "10/10 [==============================] - 221s 23s/step - loss: 1.3294 - accuracy: 0.5844 - val_loss: 0.5844 - val_accuracy: 0.8833\n",
            "Epoch 3/15\n",
            "10/10 [==============================] - 241s 25s/step - loss: 0.4844 - accuracy: 0.8875 - val_loss: 0.3083 - val_accuracy: 0.9500\n",
            "Epoch 4/15\n",
            "10/10 [==============================] - 218s 22s/step - loss: 0.3169 - accuracy: 0.9344 - val_loss: 0.2243 - val_accuracy: 0.9583\n",
            "Epoch 5/15\n",
            "10/10 [==============================] - 218s 22s/step - loss: 0.2222 - accuracy: 0.9438 - val_loss: 0.1783 - val_accuracy: 0.9667\n",
            "Epoch 6/15\n",
            "10/10 [==============================] - 219s 23s/step - loss: 0.1785 - accuracy: 0.9594 - val_loss: 0.2085 - val_accuracy: 0.9667\n",
            "Epoch 7/15\n",
            "10/10 [==============================] - 221s 23s/step - loss: 0.1617 - accuracy: 0.9594 - val_loss: 0.1688 - val_accuracy: 0.9583\n",
            "Epoch 8/15\n",
            "10/10 [==============================] - 244s 25s/step - loss: 0.1204 - accuracy: 0.9781 - val_loss: 0.1476 - val_accuracy: 0.9667\n",
            "Epoch 9/15\n",
            "10/10 [==============================] - 218s 23s/step - loss: 0.1096 - accuracy: 0.9688 - val_loss: 0.1564 - val_accuracy: 0.9667\n",
            "Epoch 10/15\n",
            "10/10 [==============================] - 242s 25s/step - loss: 0.1235 - accuracy: 0.9750 - val_loss: 0.1350 - val_accuracy: 0.9750\n",
            "Epoch 11/15\n",
            "10/10 [==============================] - 220s 23s/step - loss: 0.0973 - accuracy: 0.9812 - val_loss: 0.1369 - val_accuracy: 0.9583\n",
            "Epoch 12/15\n",
            "10/10 [==============================] - 222s 23s/step - loss: 0.0870 - accuracy: 0.9781 - val_loss: 0.1293 - val_accuracy: 0.9750\n",
            "Epoch 13/15\n",
            "10/10 [==============================] - 219s 23s/step - loss: 0.0567 - accuracy: 0.9969 - val_loss: 0.1082 - val_accuracy: 0.9750\n",
            "Epoch 14/15\n",
            "10/10 [==============================] - 221s 23s/step - loss: 0.0390 - accuracy: 0.9969 - val_loss: 0.1158 - val_accuracy: 0.9583\n",
            "Epoch 15/15\n",
            "10/10 [==============================] - 218s 23s/step - loss: 0.0374 - accuracy: 0.9969 - val_loss: 0.1038 - val_accuracy: 0.9750\n"
          ]
        },
        {
          "output_type": "execute_result",
          "data": {
            "text/plain": [
              "<keras.callbacks.History at 0x7f7338ea20d0>"
            ]
          },
          "metadata": {},
          "execution_count": 39
        }
      ]
    },
    {
      "cell_type": "markdown",
      "source": [
        "***plotting model accuracy***"
      ],
      "metadata": {
        "id": "6_6z5yeDhZnN"
      }
    },
    {
      "cell_type": "code",
      "source": [
        "plt.figure(figsize=(12,6))\n",
        "plt.plot(model.history.history['accuracy'], color='r')\n",
        "plt.plot(model.history.history['val_accuracy'], color='b')\n",
        "plt.title('Model Accuracy')\n",
        "plt.ylabel('Accuracy')\n",
        "plt.xlabel('Epochs')\n",
        "plt.legend(['train', 'validation'])\n",
        "plt.show()"
      ],
      "metadata": {
        "colab": {
          "base_uri": "https://localhost:8080/",
          "height": 404
        },
        "id": "-xERuE_W3WcM",
        "outputId": "84bc3108-06f9-4056-af14-ae660921958f"
      },
      "execution_count": null,
      "outputs": [
        {
          "output_type": "display_data",
          "data": {
            "text/plain": [
              "<Figure size 864x432 with 1 Axes>"
            ],
            "image/png": "[encoded data removed]"
          },
          "metadata": {
            "needs_background": "light"
          }
        }
      ]
    },
    {
      "cell_type": "markdown",
      "source": [
        "***plotting model loss***"
      ],
      "metadata": {
        "id": "mrd0ubwNhj9Z"
      }
    },
    {
      "cell_type": "code",
      "source": [
        "plt.figure(figsize=(12,6))\n",
        "plt.plot(model.history.history['loss'], color='r')\n",
        "plt.plot(model.history.history['val_loss'], color='b')\n",
        "plt.title('Model Loss')\n",
        "plt.ylabel('Loss')\n",
        "plt.xlabel('Epochs')\n",
        "plt.legend(['train', 'validation'])\n",
        "plt.show()"
      ],
      "metadata": {
        "colab": {
          "base_uri": "https://localhost:8080/",
          "height": 404
        },
        "id": "oQWQWygXIwTz",
        "outputId": "8ab6ab80-ec6a-4230-83eb-b3bd58d55eeb"
      },
      "execution_count": null,
      "outputs": [
        {
          "output_type": "display_data",
          "data": {
            "text/plain": [
              "<Figure size 864x432 with 1 Axes>"
            ],
            "image/png": "[encoded data removed]"
          },
          "metadata": {
            "needs_background": "light"
          }
        }
      ]
    },
    {
      "cell_type": "markdown",
      "source": [
        "***save model***"
      ],
      "metadata": {
        "id": "rnbAPeEIhy7u"
      }
    },
    {
      "cell_type": "code",
      "source": [
        "#model.save(\"saved_model_vgg_final.h5\")"
      ],
      "metadata": {
        "id": "h7BBM75lIzPz"
      },
      "execution_count": null,
      "outputs": []
    },
    {
      "cell_type": "markdown",
      "source": [
        "***import saved model***"
      ],
      "metadata": {
        "id": "kNpK6p2dh2A4"
      }
    },
    {
      "cell_type": "code",
      "source": [
        "import keras\n",
        "new_model = keras.models.load_model(\"saved_model_vgg_final.h5\")  "
      ],
      "metadata": {
        "id": "lReK4aTMJFml"
      },
      "execution_count": 1,
      "outputs": []
    },
    {
      "cell_type": "markdown",
      "source": [
        "I have predicted for test image using saved model in Prediction.ipynb file"
      ],
      "metadata": {
        "id": "4zsiW4X8ilQV"
      }
    },
    {
      "cell_type": "code",
      "source": [
        ""
      ],
      "metadata": {
        "id": "kO0g4jV2jNX1"
      },
      "execution_count": null,
      "outputs": []
    }
  ]
}